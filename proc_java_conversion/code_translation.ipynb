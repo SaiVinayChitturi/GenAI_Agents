{
 "cells": [
  {
   "cell_type": "code",
   "execution_count": 2,
   "id": "aedbbbe3",
   "metadata": {},
   "outputs": [],
   "source": []
  },
  {
   "cell_type": "code",
   "execution_count": 1,
   "id": "671a946a",
   "metadata": {},
   "outputs": [
    {
     "data": {
      "text/plain": [
       "False"
      ]
     },
     "execution_count": 1,
     "metadata": {},
     "output_type": "execute_result"
    }
   ],
   "source": [
    "import os\n",
    "from dotenv import load_dotenv\n",
    "\n",
    "# Load environment variables from .env file\n",
    "load_dotenv()\n",
    "\n"
   ]
  },
  {
   "cell_type": "code",
   "execution_count": 2,
   "id": "48a74766",
   "metadata": {},
   "outputs": [],
   "source": [
    "import os\n",
    "from typing import TypedDict, List\n",
    "\n",
    "from langchain.prompts import PromptTemplate\n",
    "from langchain_openai import ChatOpenAI\n",
    "from langchain.schema import HumanMessage\n",
    "from langchain_core.runnables.graph import MermaidDrawMethod\n",
    "from IPython.display import display, Image\n",
    "from langgraph.graph import StateGraph, END\n",
    "\n",
    "from dotenv import load_dotenv"
   ]
  },
  {
   "cell_type": "code",
   "execution_count": 3,
   "id": "2458e2e0",
   "metadata": {},
   "outputs": [],
   "source": [
    "class State(TypedDict):\n",
    "    text: str\n",
    "    proc_symbol_table: str\n",
    "    updated_code:str\n",
    "    functions:str\n",
    "    java_symbol_table: str\n",
    "    conversion_score: int\n",
    "\n",
    "llm = ChatOpenAI(model=\"gpt-4o-mini\", temperature=0)"
   ]
  },
  {
   "cell_type": "code",
   "execution_count": 4,
   "id": "c5401b96",
   "metadata": {},
   "outputs": [],
   "source": [
    "def identify_pro_c_symbol_table(state: State):\n",
    "    ''' Classify the text into one of the categories: News, Blog, Research, or Other '''\n",
    "    prompt = PromptTemplate(\n",
    "        input_variables=[\"text\"],\n",
    "        template='''you are an expert in pro*c, Given pro*c :{text}, you have identify symbol table out of pro*c. Capture\n",
    "        all keywords, variables and every detail of pro*c into symbol table. '''\n",
    "    )\n",
    "    message = HumanMessage(content=prompt.format(text=state[\"text\"]))\n",
    "    proc_symbol_table = llm.invoke([message]).content.strip()\n",
    "    return {\"proc_symbol_table\": proc_symbol_table}"
   ]
  },
  {
   "cell_type": "code",
   "execution_count": 5,
   "id": "0acdfa03",
   "metadata": {},
   "outputs": [],
   "source": [
    "def convert_to_java(state: State):\n",
    "    ''' Classify the text into one of the categories: News, Blog, Research, or Other '''\n",
    "    prompt = PromptTemplate(\n",
    "        input_variables=[\"text\",'proc_symbol_table'],\n",
    "        template='''you are a pro*c to java converter, Given pro*c :{text}, translate it into java language.you are also\n",
    "        provided with pro*c symbol table for your referece:{proc_symbol_table}\n",
    "         As you translate,\n",
    "        you do not need to add any other information. Just need executable java code in the output. Nothing else'''\n",
    "    )\n",
    "    message = HumanMessage(content=prompt.format(text=state[\"text\"],proc_symbol_table=state['proc_symbol_table']))\n",
    "    updated_code = llm.invoke([message]).content.strip()\n",
    "    with open(\"converted_java_code.txt\", \"w\") as file:\n",
    "        file.write(updated_code)\n",
    "    print(updated_code)\n",
    "    return {\"updated_code\": updated_code}"
   ]
  },
  {
   "cell_type": "code",
   "execution_count": 6,
   "id": "99e93a3b",
   "metadata": {},
   "outputs": [],
   "source": [
    "def identify_symbol_table_java(state: State):\n",
    "    ''' Classify the text into one of the categories: News, Blog, Research, or Other '''\n",
    "    prompt = PromptTemplate(\n",
    "        input_variables=[\"updated_code\"],\n",
    "        template='''you are an expert in java language, given java code:{updated_code}, you will have to identify the symbol\n",
    "        table of java.Capture all keywords, variables and every detail of java into symbol table.\n",
    "        This symbol table will later be used to be compared against a different language symbol table.\n",
    "         So double check the symbol table\n",
    "        '''\n",
    "    )\n",
    "    message = HumanMessage(content=prompt.format(updated_code=state[\"updated_code\"]))\n",
    "    java_symbol_table = llm.invoke([message]).content.strip()\n",
    "    return {\"java_symbol_table\": java_symbol_table}"
   ]
  },
  {
   "cell_type": "code",
   "execution_count": 7,
   "id": "cc930e90",
   "metadata": {},
   "outputs": [],
   "source": [
    "def compare_symbol_table(state: State):\n",
    "    ''' Classify the text into one of the categories: News, Blog, Research, or Other '''\n",
    "    prompt = PromptTemplate(\n",
    "        input_variables=[\"java_symbol_table\",\"proc_symbol_table\"],\n",
    "        template='''you are an expert of both java and pro_c. yoy are provided with both pro*c symbol table {proc_symbol_table} and\n",
    "        java symbol table {java_symbol_table}. you need to validate translation from pro*c to java\n",
    "        you will have to score it on the scale of 10\n",
    "        '''\n",
    "    )\n",
    "    message = HumanMessage(content=prompt.format(proc_symbol_table=state[\"proc_symbol_table\"],java_symbol_table=state[\"java_symbol_table\"]))\n",
    "    conversion_score = llm.invoke([message]).content.strip()\n",
    "    return {\"conversion_score\": conversion_score}"
   ]
  },
  {
   "cell_type": "code",
   "execution_count": 8,
   "id": "586902df",
   "metadata": {},
   "outputs": [],
   "source": [
    "def identify_symbol_table_java(state: State):\n",
    "    ''' Classify the text into one of the categories: News, Blog, Research, or Other '''\n",
    "    prompt = PromptTemplate(\n",
    "        input_variables=[\"updated_code\"],\n",
    "        template='''you are an expert in java language, given java code:{updated_code}, you will have to identify the symbol\n",
    "        table of java.Capture all keywords, variables and every detail of java into symbol table.\n",
    "        This symbol table will later be used to be compared against a different language symbol table.\n",
    "         So double check the symbol table. whule you make symbol table, do not add any additional text at bottom and start of table\n",
    "        '''\n",
    "    )\n",
    "    message = HumanMessage(content=prompt.format(updated_code=state[\"updated_code\"]))\n",
    "    java_symbol_table = llm.invoke([message]).content.strip()\n",
    "    return {\"java_symbol_table\": java_symbol_table}"
   ]
  },
  {
   "cell_type": "code",
   "execution_count": 9,
   "id": "12bfa9d6",
   "metadata": {},
   "outputs": [],
   "source": [
    "workflow = StateGraph(State)\n",
    "\n",
    "# Add nodes to the graph\n",
    "workflow.add_node(\"identify_pro_c_symbol_table\", identify_pro_c_symbol_table)\n",
    "workflow.add_node(\"convert_to_java\", convert_to_java)\n",
    "workflow.add_node(\"identify_symbol_table_java\", identify_symbol_table_java)\n",
    "workflow.add_node(\"compare_symbol_table\", compare_symbol_table)\n",
    "\n",
    "\n",
    "# Add edges to the graph\n",
    "workflow.set_entry_point(\"identify_pro_c_symbol_table\")\n",
    "workflow.add_edge(\"identify_pro_c_symbol_table\", \"convert_to_java\")\n",
    "workflow.add_edge(\"convert_to_java\", \"identify_symbol_table_java\")\n",
    "workflow.add_edge(\"identify_symbol_table_java\", \"compare_symbol_table\") # Set the entry point of the graph\n",
    "workflow.add_edge(\"compare_symbol_table\", END)\n",
    "\n",
    "\n",
    "# Compile the graph\n",
    "app = workflow.compile()"
   ]
  },
  {
   "cell_type": "code",
   "execution_count": 10,
   "id": "96fc5020",
   "metadata": {},
   "outputs": [
    {
     "data": {
      "image/jpeg": "[encoded data removed]",
      "text/plain": [
       "<IPython.core.display.Image object>"
      ]
     },
     "metadata": {},
     "output_type": "display_data"
    }
   ],
   "source": [
    "\n",
    "display(\n",
    "    Image(\n",
    "        app.get_graph().draw_mermaid_png(\n",
    "            draw_method=MermaidDrawMethod.API,\n",
    "        )\n",
    "    )\n",
    ")"
   ]
  },
  {
   "cell_type": "code",
   "execution_count": 11,
   "id": "b8e0f9f4",
   "metadata": {},
   "outputs": [],
   "source": [
    "sample_pro_c=\"\"\"#include <sqlca.h>\n",
    "\n",
    "EXEC SQL BEGIN DECLARE SECTION;\n",
    "    char name[50];\n",
    "    int age;\n",
    "EXEC SQL END DECLARE SECTION;\n",
    "\n",
    "int main() {\n",
    "    EXEC SQL CONNECT :user/:password;\n",
    "\n",
    "    EXEC SQL DECLARE emp_cursor CURSOR FOR emp_query;\n",
    "    EXEC SQL OPEN emp_cursor;\n",
    "    EXEC SQL FETCH emp_cursor INTO :name, :age;\n",
    "\n",
    "    while (sqlca.sqlcode == 0) {\n",
    "        printf(\"Name: %s, Age: %d\\n\", name, age);\n",
    "        EXEC SQL FETCH emp_cursor INTO :name, :age;\n",
    "    }\n",
    "\n",
    "    EXEC SQL CLOSE emp_cursor;\n",
    "    EXEC SQL COMMIT;\n",
    "    EXEC SQL DISCONNECT;\n",
    "\n",
    "    return 0;\n",
    "}\n",
    "\"\"\""
   ]
  },
  {
   "cell_type": "code",
   "execution_count": 12,
   "id": "09a8a794",
   "metadata": {},
   "outputs": [
    {
     "name": "stdout",
     "output_type": "stream",
     "text": [
      "```java\n",
      "import java.sql.Connection;\n",
      "import java.sql.DriverManager;\n",
      "import java.sql.PreparedStatement;\n",
      "import java.sql.ResultSet;\n",
      "\n",
      "public class EmployeeFetcher {\n",
      "    public static void main(String[] args) {\n",
      "        String user = \"your_username\"; // Replace with actual username\n",
      "        String password = \"your_password\"; // Replace with actual password\n",
      "        String empQuery = \"SELECT name, age FROM employees\"; // Replace with actual SQL query\n",
      "\n",
      "        try {\n",
      "            Connection connection = DriverManager.getConnection(\"jdbc:your_database_url\", user, password);\n",
      "            PreparedStatement preparedStatement = connection.prepareStatement(empQuery);\n",
      "            ResultSet resultSet = preparedStatement.executeQuery();\n",
      "\n",
      "            while (resultSet.next()) {\n",
      "                String name = resultSet.getString(\"name\");\n",
      "                int age = resultSet.getInt(\"age\");\n",
      "                System.out.printf(\"Name: %s, Age: %d%n\", name, age);\n",
      "            }\n",
      "\n",
      "            resultSet.close();\n",
      "            preparedStatement.close();\n",
      "            connection.commit();\n",
      "            connection.close();\n",
      "        } catch (Exception e) {\n",
      "            e.printStackTrace();\n",
      "        }\n",
      "    }\n",
      "}\n",
      "```\n",
      "{'text': '#include <sqlca.h>\\n\\nEXEC SQL BEGIN DECLARE SECTION;\\n    char name[50];\\n    int age;\\nEXEC SQL END DECLARE SECTION;\\n\\nint main() {\\n    EXEC SQL CONNECT :user/:password;\\n\\n    EXEC SQL DECLARE emp_cursor CURSOR FOR emp_query;\\n    EXEC SQL OPEN emp_cursor;\\n    EXEC SQL FETCH emp_cursor INTO :name, :age;\\n\\n    while (sqlca.sqlcode == 0) {\\n        printf(\"Name: %s, Age: %d\\n\", name, age);\\n        EXEC SQL FETCH emp_cursor INTO :name, :age;\\n    }\\n\\n    EXEC SQL CLOSE emp_cursor;\\n    EXEC SQL COMMIT;\\n    EXEC SQL DISCONNECT;\\n\\n    return 0;\\n}\\n', 'proc_symbol_table': 'To create a symbol table from the provided Pro*C code, we will identify and categorize the various components such as keywords, variables, and other relevant details. Below is a breakdown of the symbol table based on the provided Pro*C code.\\n\\n### Symbol Table\\n\\n| Symbol Type      | Symbol Name      | Description/Details                                   |\\n|------------------|------------------|------------------------------------------------------|\\n| **Keyword**      | `#include`       | Preprocessor directive to include header files.      |\\n| **Keyword**      | `EXEC SQL`       | Indicates the start of an embedded SQL statement.    |\\n| **Keyword**      | `BEGIN`          | Marks the beginning of a block in SQL.               |\\n| **Keyword**      | `DECLARE`        | Used to declare variables or cursors in SQL.         |\\n| **Keyword**      | `SECTION`        | Indicates the section for variable declarations.      |\\n| **Keyword**      | `CURSOR`         | Defines a cursor for SQL query results.               |\\n| **Keyword**      | `FOR`            | Used to associate a cursor with a SQL query.         |\\n| **Keyword**      | `OPEN`           | Opens the declared cursor.                            |\\n| **Keyword**      | `FETCH`          | Retrieves the next row from the cursor.              |\\n| **Keyword**      | `CLOSE`          | Closes the cursor.                                   |\\n| **Keyword**      | `COMMIT`         | Commits the current transaction.                      |\\n| **Keyword**      | `DISCONNECT`     | Disconnects from the database.                        |\\n| **Keyword**      | `while`          | Starts a loop that continues while a condition is true. |\\n| **Keyword**      | `printf`         | Standard output function to print formatted data.    |\\n| **Variable**     | `name`           | Character array to store employee name (50 chars).   |\\n| **Variable**     | `age`            | Integer variable to store employee age.              |\\n| **Variable**     | `user`           | Placeholder for the database username (not defined in the code). |\\n| **Variable**     | `password`       | Placeholder for the database password (not defined in the code). |\\n| **Variable**     | `emp_cursor`     | Cursor variable for fetching employee records.       |\\n| **Variable**     | `emp_query`      | SQL query associated with the cursor (not defined in the code). |\\n| **Structure**    | `sqlca`          | SQL Communication Area structure used for error handling. |\\n| **Field**        | `sqlcode`        | Field in `sqlca` that holds the status code of the last SQL operation. |\\n\\n### Additional Notes\\n- The `user` and `password` variables are placeholders and should be defined or passed appropriately in a real application.\\n- The `emp_query` variable is referenced but not defined in the provided code. It should contain a valid SQL SELECT statement to fetch employee records.\\n- The `sqlca` structure is used for error handling and contains fields that provide information about the execution of SQL statements.\\n\\nThis symbol table captures the essential components of the provided Pro*C code, categorizing them for clarity and understanding.', 'updated_code': '```java\\nimport java.sql.Connection;\\nimport java.sql.DriverManager;\\nimport java.sql.PreparedStatement;\\nimport java.sql.ResultSet;\\n\\npublic class EmployeeFetcher {\\n    public static void main(String[] args) {\\n        String user = \"your_username\"; // Replace with actual username\\n        String password = \"your_password\"; // Replace with actual password\\n        String empQuery = \"SELECT name, age FROM employees\"; // Replace with actual SQL query\\n\\n        try {\\n            Connection connection = DriverManager.getConnection(\"jdbc:your_database_url\", user, password);\\n            PreparedStatement preparedStatement = connection.prepareStatement(empQuery);\\n            ResultSet resultSet = preparedStatement.executeQuery();\\n\\n            while (resultSet.next()) {\\n                String name = resultSet.getString(\"name\");\\n                int age = resultSet.getInt(\"age\");\\n                System.out.printf(\"Name: %s, Age: %d%n\", name, age);\\n            }\\n\\n            resultSet.close();\\n            preparedStatement.close();\\n            connection.commit();\\n            connection.close();\\n        } catch (Exception e) {\\n            e.printStackTrace();\\n        }\\n    }\\n}\\n```', 'java_symbol_table': '| Symbol Type      | Symbol Name               | Description                                      |\\n|------------------|---------------------------|--------------------------------------------------|\\n| Keyword          | import                    | Imports a package or class                       |\\n| Keyword          | public                    | Access modifier for class or method              |\\n| Keyword          | class                     | Declares a class                                 |\\n| Keyword          | static                    | Indicates that a method or variable belongs to the class, not instances |\\n| Keyword          | void                      | Specifies that a method does not return a value  |\\n| Keyword          | main                      | Main method, entry point of the program          |\\n| Keyword          | String                    | Class representing a sequence of characters      |\\n| Keyword          | int                       | Primitive data type for integer values           |\\n| Keyword          | try                       | Starts a block of code that will be tested for exceptions |\\n| Keyword          | catch                     | Declares a block of code, known as an exception handler |\\n| Keyword          | new                       | Creates new objects                              |\\n| Keyword          | while                     | Starts a loop that continues while a condition is true |\\n| Keyword          | if                        | Executes a block of code if a condition is true  |\\n| Keyword          | return                    | Exits from the method and optionally returns a value |\\n| Keyword          | throws                    | Declares that a method can throw exceptions      |\\n| Keyword          | null                      | A literal representing a null reference          |\\n| Variable         | user                      | String variable for database username             |\\n| Variable         | password                  | String variable for database password             |\\n| Variable         | empQuery                  | String variable for SQL query                     |\\n| Variable         | connection                | Connection object for database connection         |\\n| Variable         | preparedStatement         | PreparedStatement object for executing SQL queries |\\n| Variable         | resultSet                 | ResultSet object for holding the results of a query |\\n| Variable         | name                      | String variable for employee name                 |\\n| Variable         | age                       | Integer variable for employee age                 |\\n| Method           | getConnection             | Method to establish a connection to the database  |\\n| Method           | prepareStatement          | Method to create a PreparedStatement object       |\\n| Method           | executeQuery              | Method to execute a SQL query                     |\\n| Method           | next                      | Method to move the cursor to the next row in the ResultSet |\\n| Method           | getString                 | Method to retrieve a String value from the ResultSet |\\n| Method           | getInt                    | Method to retrieve an int value from the ResultSet |\\n| Method           | printf                    | Method to format and print output                 |\\n| Method           | close                     | Method to close the ResultSet, PreparedStatement, and Connection |\\n| Method           | commit                    | Method to commit the current transaction          |\\n| Method           | printStackTrace          | Method to print the stack trace of an exception   |\\n| Class            | Connection                | Class representing a connection to a database     |\\n| Class            | DriverManager             | Class for managing database connections           |\\n| Class            | PreparedStatement         | Class for precompiled SQL statements              |\\n| Class            | ResultSet                 | Class representing the result set of a query     |\\n| Exception        | Exception                 | Base class for exceptions in Java                 |', 'conversion_score': \"To validate the translation from Pro*C to Java based on the provided symbol tables, we will assess the following criteria:\\n\\n1. **Keyword Mapping**: Check if the keywords in Pro*C have appropriate Java equivalents.\\n2. **Variable Mapping**: Ensure that variables in Pro*C are correctly represented in Java, including types and purposes.\\n3. **Method Mapping**: Verify that methods in Java correspond to the operations performed in Pro*C.\\n4. **Structure and Class Representation**: Assess how structures in Pro*C are represented as classes in Java.\\n5. **Error Handling**: Evaluate how error handling in Pro*C (using `sqlca`) is translated into Java's exception handling.\\n\\n### Evaluation Criteria\\n\\n1. **Keyword Mapping (2/2)**: \\n   - The keywords in Pro*C such as `EXEC SQL`, `DECLARE`, `CURSOR`, etc., have no direct Java equivalents but are conceptually represented in Java through methods and classes. The keywords in Java are correctly identified.\\n\\n2. **Variable Mapping (2/2)**: \\n   - Variables like `user`, `password`, `name`, and `age` are present in both Pro*C and Java with appropriate types. The purpose of each variable is consistent across both languages.\\n\\n3. **Method Mapping (2/2)**: \\n   - Methods in Java such as `getConnection`, `prepareStatement`, and `executeQuery` correspond to the operations performed in Pro*C. The methods are well-defined and relevant to the database operations.\\n\\n4. **Structure and Class Representation (1/2)**: \\n   - The `sqlca` structure in Pro*C is used for error handling, while Java uses exceptions. The translation could be improved by explicitly mentioning how `sqlca` is handled in Java, possibly through a custom exception class or using Java's built-in exception handling.\\n\\n5. **Error Handling (1/2)**: \\n   - Pro*C uses `sqlca` for error handling, while Java uses try-catch blocks. The translation mentions exceptions but does not explicitly connect the error handling mechanism of Pro*C to Java's exception handling. This could be clearer.\\n\\n### Overall Score: 8/10\\n\\nThe translation from Pro*C to Java is largely accurate, with appropriate mappings of keywords, variables, and methods. However, there is room for improvement in clearly articulating how Pro*C's error handling translates into Java's exception handling and how structures are represented as classes.\"}\n",
      "tone: ```java\n",
      "import java.sql.Connection;\n",
      "import java.sql.DriverManager;\n",
      "import java.sql.PreparedStatement;\n",
      "import java.sql.ResultSet;\n",
      "\n",
      "public class EmployeeFetcher {\n",
      "    public static void main(String[] args) {\n",
      "        String user = \"your_username\"; // Replace with actual username\n",
      "        String password = \"your_password\"; // Replace with actual password\n",
      "        String empQuery = \"SELECT name, age FROM employees\"; // Replace with actual SQL query\n",
      "\n",
      "        try {\n",
      "            Connection connection = DriverManager.getConnection(\"jdbc:your_database_url\", user, password);\n",
      "            PreparedStatement preparedStatement = connection.prepareStatement(empQuery);\n",
      "            ResultSet resultSet = preparedStatement.executeQuery();\n",
      "\n",
      "            while (resultSet.next()) {\n",
      "                String name = resultSet.getString(\"name\");\n",
      "                int age = resultSet.getInt(\"age\");\n",
      "                System.out.printf(\"Name: %s, Age: %d%n\", name, age);\n",
      "            }\n",
      "\n",
      "            resultSet.close();\n",
      "            preparedStatement.close();\n",
      "            connection.commit();\n",
      "            connection.close();\n",
      "        } catch (Exception e) {\n",
      "            e.printStackTrace();\n",
      "        }\n",
      "    }\n",
      "}\n",
      "```\n"
     ]
    }
   ],
   "source": [
    "sample_text = \"\"\"\n",
    "OpenAI has announced the GPT-4 model, which is a large multimodal model that exhibits human-level performance on various professional benchmarks. It is developed to improve the alignment and safety of AI systems.\n",
    "additionally, the model is designed to be more efficient and scalable than its predecessor, GPT-3. The GPT-4 model is expected to be released in the coming months and will be available to the public for research and development purposes.\n",
    "\"\"\"\n",
    "comment='change GPT-4 to GPT-6'\n",
    "state_input = {\"text\": sample_pro_c}\n",
    "result = app.invoke(state_input)\n",
    "print(result)\n",
    "\n",
    "print(\"tone:\", result[\"updated_code\"])\n",
    "#print(\"Classification:\", result[\"classification\"])\n",
    "#print(\"\\nEntities:\", result[\"entities\"])\n",
    "#print(\"\\nSummary:\", result[\"summary\"])"
   ]
  },
  {
   "cell_type": "code",
   "execution_count": 108,
   "id": "21af0f7b",
   "metadata": {},
   "outputs": [
    {
     "data": {
      "text/plain": [
       "\"To validate the translation from Pro*C to Java, we need to assess how well the Java symbol table captures the functionality and structure of the Pro*C code. Here are the key points to consider:\\n\\n1. **Keywords and Syntax**: \\n   - The Pro*C keywords (like `EXEC SQL`, `DECLARE`, `CURSOR`, etc.) are specific to SQL embedded in C, while Java uses its own set of keywords (like `import`, `public`, `class`, etc.). The Java symbol table correctly identifies Java keywords, but it does not have direct equivalents for Pro*C keywords, which is expected due to the differences in the languages.\\n\\n2. **Variable Mapping**:\\n   - The variables in Pro*C (like `name`, `age`, `user`, `password`) are correctly represented in Java. The Java symbol table also includes similar variables, which is good. However, the Pro*C variables are used in a database context, while the Java variables are more general. The mapping is appropriate, but the context of usage should be noted.\\n\\n3. **SQL Handling**:\\n   - Pro*C uses embedded SQL directly, while Java uses JDBC for database interactions. The Java symbol table includes JDBC-related classes and methods (like `Connection`, `PreparedStatement`, `ResultSet`), which is a good representation of how SQL operations would be handled in Java. However, the specific SQL operations (like `OPEN`, `FETCH`, `CLOSE`, etc.) from Pro*C are not directly represented in Java, which is acceptable given the different paradigms.\\n\\n4. **Control Structures**:\\n   - The control structures (like `while`, `if`, etc.) are present in both symbol tables, which is consistent. The Java symbol table includes exception handling keywords (`try`, `catch`, `finally`), which are not present in Pro*C but are essential in Java for robust error handling.\\n\\n5. **Functions and Methods**:\\n   - The Pro*C `main` function is represented in Java as the `main` method, which is correct. The Java symbol table also includes various methods for database operations, which are not present in Pro*C but are necessary for Java's object-oriented approach.\\n\\n6. **Classes and Objects**:\\n   - The Java symbol table includes classes relevant to database operations (like `Connection`, `PreparedStatement`, etc.), which do not have direct counterparts in Pro*C. This is a necessary adaptation for the object-oriented nature of Java.\\n\\n### Scoring\\nBased on the above analysis, I would score the translation from Pro*C to Java as follows:\\n\\n- **Keywords and Syntax**: 7/10 (Good understanding of language differences)\\n- **Variable Mapping**: 8/10 (Variables are well-mapped, but context could be clearer)\\n- **SQL Handling**: 9/10 (Good representation of SQL operations in Java context)\\n- **Control Structures**: 8/10 (Control structures are well represented, but exception handling is an addition)\\n- **Functions and Methods**: 8/10 (Main function is correctly translated to a method, but more context on usage would help)\\n- **Classes and Objects**: 9/10 (Good adaptation to Java's object-oriented nature)\\n\\n### Overall Score: **8/10**\\nThe translation captures the essence of the Pro*C code while adapting it to Java's syntax and paradigms. There are some areas for improvement, particularly in providing context for variable usage and SQL operations, but overall, it is a solid translation.\""
      ]
     },
     "execution_count": 108,
     "metadata": {},
     "output_type": "execute_result"
    }
   ],
   "source": [
    "result['conversion_score']"
   ]
  },
  {
   "cell_type": "code",
   "execution_count": 109,
   "id": "b5863e80",
   "metadata": {},
   "outputs": [
    {
     "data": {
      "text/plain": [
       "'| Symbol Type      | Symbol Name               | Description                                      |\\n|------------------|---------------------------|--------------------------------------------------|\\n| Keyword          | import                    | Imports a package or class                       |\\n| Keyword          | public                    | Access modifier for classes and methods          |\\n| Keyword          | class                     | Declares a class                                 |\\n| Keyword          | static                    | Indicates that a method or variable belongs to the class, not instances |\\n| Keyword          | void                      | Specifies that a method does not return a value  |\\n| Keyword          | main                      | Main method, entry point of the program          |\\n| Keyword          | String                    | Class representing a sequence of characters      |\\n| Keyword          | int                       | Primitive data type for integers                 |\\n| Keyword          | try                       | Starts a block of code that will be tested for exceptions |\\n| Keyword          | catch                     | Declares a block of code, known as an exception handler |\\n| Keyword          | new                       | Creates new objects                              |\\n| Keyword          | while                     | Starts a loop that continues while a condition is true |\\n| Keyword          | if                        | Executes a block of code if a condition is true  |\\n| Keyword          | return                    | Exits from the method and optionally returns a value |\\n| Keyword          | throws                    | Declares that a method can throw exceptions      |\\n| Keyword          | throw                     | Used to explicitly throw an exception            |\\n| Keyword          | finally                   | Declares a block of code that will execute after try/catch |\\n| Variable          | user                      | String variable for database username            |\\n| Variable          | password                  | String variable for database password            |\\n| Variable          | empQuery                  | String variable for SQL query                    |\\n| Variable          | connection                | Connection object for database connection        |\\n| Variable          | preparedStatement         | PreparedStatement object for executing SQL queries |\\n| Variable          | resultSet                 | ResultSet object for holding the results of a query |\\n| Variable          | name                      | String variable for employee name                |\\n| Variable          | age                       | Integer variable for employee age                |\\n| Method            | getConnection             | Method to establish a connection to the database |\\n| Method            | prepareStatement          | Method to create a PreparedStatement object      |\\n| Method            | executeQuery              | Method to execute a SQL query                    |\\n| Method            | next                      | Method to move the cursor to the next row in the ResultSet |\\n| Method            | getString                 | Method to retrieve a String value from ResultSet |\\n| Method            | getInt                    | Method to retrieve an int value from ResultSet   |\\n| Method            | printf                    | Method to format and print output                |\\n| Method            | close                     | Method to close the ResultSet, PreparedStatement, and Connection |\\n| Method            | commit                    | Method to commit the current transaction         |\\n| Exception         | Exception                 | Base class for exceptions in Java                |\\n| Class             | EmployeeFetcher           | User-defined class for fetching employee data    |\\n| Class             | Connection                | Interface for database connection                |\\n| Class             | DriverManager             | Class for managing database drivers              |\\n| Class             | PreparedStatement         | Interface for precompiled SQL statements         |\\n| Class             | ResultSet                 | Interface for accessing the results of a query   |\\n| Class             | String                    | Class representing a sequence of characters      |\\n| Class             | Integer                   | Wrapper class for the primitive int type         |'"
      ]
     },
     "execution_count": 109,
     "metadata": {},
     "output_type": "execute_result"
    }
   ],
   "source": [
    "result['java_symbol_table']"
   ]
  },
  {
   "cell_type": "code",
   "execution_count": null,
   "id": "95cd3050",
   "metadata": {},
   "outputs": [],
   "source": []
  }
 ],
 "metadata": {
  "kernelspec": {
   "display_name": "paid_openai_env",
   "language": "python",
   "name": "python3"
  },
  "language_info": {
   "codemirror_mode": {
    "name": "ipython",
    "version": 3
   },
   "file_extension": ".py",
   "mimetype": "text/x-python",
   "name": "python",
   "nbconvert_exporter": "python",
   "pygments_lexer": "ipython3",
   "version": "3.9.1"
  }
 },
 "nbformat": 4,
 "nbformat_minor": 5
}
